{
  "cells": [
    {
      "cell_type": "markdown",
      "metadata": {
        "id": "view-in-github",
        "colab_type": "text"
      },
      "source": [
        "<a href=\"https://colab.research.google.com/github/batmanvane/complex-systems-modeling/blob/main/notebooks/chaos_game_tutorial.ipynb\" target=\"_parent\"><img src=\"https://colab.research.google.com/assets/colab-badge.svg\" alt=\"Open In Colab\"/></a>"
      ]
    },
    {
      "cell_type": "markdown",
      "metadata": {
        "id": "ktj6p_bES8yc"
      },
      "source": [
        "# **Complex Systems Modeling — Session 2 **\n",
        "### From Coordinates & Randomness → Midpoint Rule → Chaos Game → Sierpiński Triangle & Carpet\n",
        "\n",
        "Welcome! This notebook is a **self‑explanatory tutorial**. Each section introduces a concept, gives you a small **task**, and then provides a **commented solution** you can reveal by uncommenting lines.\n",
        "\n",
        "**What you'll build (step‑by‑step):**\n",
        "1. Plot points in a simple coordinate system\n",
        "2. Use randomness to move points\n",
        "3. Apply the **midpoint rule** (“halving toward a target”)\n",
        "4. Combine ideas to make the **Sierpiński Triangle** (Chaos Game)\n",
        "5. Extend to the **Sierpiński Carpet** (mask + Chaos Game/IFS)\n",
        "\n",
        "> Tips: Run cells top to bottom. When you see ** Solution**, read it first, then uncomment to try it.\n"
      ],
      "id": "ktj6p_bES8yc"
    },
    {
      "cell_type": "markdown",
      "metadata": {
        "id": "x4DDQGY0S8ye"
      },
      "source": [
        "\n",
        "## Table of Contents\n",
        "1. [Setup](#setup)  \n",
        "2. [Coordinates & Plotting](#coords)  \n",
        "3. [Randomness: Selecting Points](#random)  \n",
        "4. [Midpoint (Halving) Rule](#midpoint)  \n",
        "5. [Project 1: Sierpiński Triangle (Chaos Game)](#triangle)  \n",
        "6. [Project 2: Sierpiński Carpet](#carpet)  \n",
        "7. [Explore & Reflect](#reflect)\n"
      ],
      "id": "x4DDQGY0S8ye"
    },
    {
      "cell_type": "markdown",
      "metadata": {
        "id": "LJrMGg7HS8ye"
      },
      "source": [
        "\n",
        "---\n",
        "<a id=\"setup\"></a>\n",
        "## 1) Setup\n"
      ],
      "id": "LJrMGg7HS8ye"
    },
    {
      "cell_type": "code",
      "execution_count": null,
      "metadata": {
        "id": "MyhfMuNwS8yf"
      },
      "outputs": [],
      "source": [
        "\n",
        "# Imports\n",
        "import numpy as np\n",
        "import matplotlib.pyplot as plt\n",
        "import random\n",
        "import time\n",
        "\n",
        "def scatter_points(points, title=\"Points\", figsize=(6,6), s=8):\n",
        "    fig, ax = plt.subplots(figsize=figsize)\n",
        "    xs = [p[0] for p in points]\n",
        "    ys = [p[1] for p in points]\n",
        "    ax.scatter(xs, ys, s=s, alpha=0.9)\n",
        "    ax.set_aspect('equal')\n",
        "    ax.grid(True, alpha=0.25)\n",
        "    ax.set_title(title)\n",
        "    plt.show()\n",
        "\n",
        "print(\" Setup complete.\")\n"
      ],
      "id": "MyhfMuNwS8yf"
    },
    {
      "cell_type": "markdown",
      "metadata": {
        "id": "d0EaSXTaS8yf"
      },
      "source": [
        "\n",
        "---\n",
        "<a id=\"coords\"></a>\n",
        "## 2) Coordinates & Plotting\n",
        "\n",
        "We’ll start with a few points in the unit square and plot them.\n"
      ],
      "id": "d0EaSXTaS8yf"
    },
    {
      "cell_type": "markdown",
      "metadata": {
        "id": "5L0CLVQ0S8yf"
      },
      "source": [
        "\n",
        "### Task 2.1 — Create and plot 5 points inside the unit square\n",
        "- Build a list of 5 `(x, y)` pairs with values in `[0, 1]`.\n",
        "- Use `scatter_points(...)` to visualize them.\n"
      ],
      "id": "5L0CLVQ0S8yf"
    },
    {
      "cell_type": "code",
      "execution_count": null,
      "metadata": {
        "id": "0zadRt-NS8yg"
      },
      "outputs": [],
      "source": [
        "\n",
        "# TODO: Define five points in [0,1]x[0,1] use datastructures tuples and lists\n",
        "\n",
        "\n",
        "# Solution (uncomment):\n",
        "# points = [(0.2,0.3),(0.8,0.4),(0.6,0.9),(0.1,0.8),(0.4,0.1)]\n",
        "\n",
        "# Visualize\n",
        "# scatter_points(points, title=\"Five points in the unit square\")\n"
      ],
      "id": "0zadRt-NS8yg"
    },
    {
      "cell_type": "markdown",
      "metadata": {
        "id": "3jLbcXmpS8yg"
      },
      "source": [
        "\n",
        "---\n",
        "<a id=\"random\"></a>\n",
        "## 3) Randomness: Selecting Points\n",
        "\n",
        "We’ll sample random points and practice basic plotting.\n"
      ],
      "id": "3jLbcXmpS8yg"
    },
    {
      "cell_type": "markdown",
      "metadata": {
        "id": "aBt_pPxiS8yg"
      },
      "source": [
        "\n",
        "### Task 3.1 — Generate 200 random points in the unit square\n",
        "- Use `random.random()` or `np.random.rand()`.\n",
        "- Plot them.\n"
      ],
      "id": "aBt_pPxiS8yg"
    },
    {
      "cell_type": "code",
      "execution_count": null,
      "metadata": {
        "id": "iW7FtS6LS8yg"
      },
      "outputs": [],
      "source": [
        "\n",
        "# TODO: Generate random points\n",
        "\n",
        "rand_points = [] #initialize an empty list\n",
        "\n",
        "\n",
        "# Solution (uncomment):\n",
        "# rand_points = [(random.random(), random.random()) for _ in range(200)]\n",
        "\n",
        "# Visualize\n",
        "# scatter_points(rand_points, title=\"Random points in [0,1]²\", s=6)\n"
      ],
      "id": "iW7FtS6LS8yg"
    },
    {
      "cell_type": "markdown",
      "metadata": {
        "id": "CvsGruhXS8yg"
      },
      "source": [
        "\n",
        "---\n",
        "<a id=\"midpoint\"></a>\n",
        "## 4) Midpoint (Halving) Rule\n",
        "\n",
        "Given a current position `C` and a target `T`, the **midpoint** is `M = C + 0.5*(T - C)`.  \n",
        "This simple rule will power the **Chaos Game**.\n"
      ],
      "id": "CvsGruhXS8yg"
    },
    {
      "cell_type": "markdown",
      "metadata": {
        "id": "QbL6_0zgS8yg"
      },
      "source": [
        "\n",
        "### Task 4.1 — Implement a `midpoint(C, T, fraction=0.5)` function\n",
        "- Return the point that moves a fraction (default 0.5) of the way from `C` to `T`.\n",
        "- Test it with `C=(0.9,0.9)` and `T=(0.0,0.0)`.\n"
      ],
      "id": "QbL6_0zgS8yg"
    },
    {
      "cell_type": "code",
      "execution_count": null,
      "metadata": {
        "id": "WX9w2t-QS8yg"
      },
      "outputs": [],
      "source": [
        "#  Solution (uncomment):\n",
        "# def midpoint(C, T, fraction=0.5):\n",
        "#     \"\"\"\n",
        "#      meaningfull docstring\n",
        "#      \"\"\"\n",
        "#     cx, cy = C\n",
        "#     tx, ty = T\n",
        "#     nx = cx + fraction * (tx - cx)\n",
        "#     ny = cy + fraction * (ty - cy)\n",
        "#     return (nx, ny)\n",
        "\n",
        "# # Quick test\n",
        "# print(\"Midpoint test:\", midpoint((0.9,0.9),(0.0,0.0)))\n"
      ],
      "id": "WX9w2t-QS8yg"
    },
    {
      "cell_type": "markdown",
      "metadata": {
        "id": "8nAnQqWGS8yg"
      },
      "source": [
        "\n",
        "---\n",
        "<a id=\"triangle\"></a>\n",
        "## 5) Project 1: Sierpiński Triangle (Chaos Game)\n",
        "\n",
        "**Idea:** Choose one of three triangle vertices at random and move halfway from the current point toward that vertex. Repeat!\n",
        "\n",
        "We’ll build this progressively.\n"
      ],
      "id": "8nAnQqWGS8yg"
    },
    {
      "cell_type": "markdown",
      "metadata": {
        "id": "HvuiDAfXS8yh"
      },
      "source": [
        "\n",
        "### 5.1 Define triangle vertices\n",
        "Use an equilateral triangle in the unit square.\n"
      ],
      "id": "HvuiDAfXS8yh"
    },
    {
      "cell_type": "code",
      "execution_count": null,
      "metadata": {
        "id": "URAhghtqS8yh"
      },
      "outputs": [],
      "source": [
        "\n",
        "# Equilateral triangle vertices\n",
        "triangle_vertices = [(0.0, 0.0), (1.0, 0.0), (0.5, np.sqrt(3)/2)]\n",
        "triangle_vertices\n"
      ],
      "id": "URAhghtqS8yh"
    },
    {
      "cell_type": "markdown",
      "metadata": {
        "id": "BZoTDS23S8yh"
      },
      "source": [
        "\n",
        "### Task 5.2 — Implement a single Chaos-Game step\n",
        "- Randomly choose one of the three vertices\n",
        "- Move the current point halfway toward that vertex using `midpoint`.\n"
      ],
      "id": "BZoTDS23S8yh"
    },
    {
      "cell_type": "code",
      "execution_count": null,
      "metadata": {
        "id": "pm_Vp_qeS8yh"
      },
      "outputs": [],
      "source": [
        "# Solution (uncomment):\n",
        "# def chaos_game_step(current_point, vertices, fraction=0.5):\n",
        "#     chosen = random.choice(vertices)\n",
        "#     return midpoint(current_point, chosen, fraction), chosen\n",
        "\n",
        "# # Quick test (after you implemented midpoint):\n",
        "# # print(chaos_game_step((0.5,0.5), triangle_vertices))\n"
      ],
      "id": "pm_Vp_qeS8yh"
    },
    {
      "cell_type": "markdown",
      "metadata": {
        "id": "3hDD5LKXS8yh"
      },
      "source": [
        "\n",
        "### Task 5.3 — Run the Chaos Game\n",
        "- Start at any point (e.g., the centroid).\n",
        "- Iterate N times, skipping the first ~100 transient points.\n",
        "- Plot the result.\n"
      ],
      "id": "3hDD5LKXS8yh"
    },
    {
      "cell_type": "code",
      "execution_count": null,
      "metadata": {
        "id": "IXyNF5zYS8yh"
      },
      "outputs": [],
      "source": [
        "# Solution (uncomment):\n",
        "# def play_chaos_game(vertices, start_point, num_steps=15000, fraction=0.5, skip_initial=100):\n",
        "#     points = [start_point]\n",
        "#     chosen_vertices = []\n",
        "#     cur = start_point\n",
        "#     for _ in range(num_steps):\n",
        "#         cur, chosen = chaos_game_step(cur, vertices, fraction)\n",
        "#         points.append(cur); chosen_vertices.append(chosen)\n",
        "#     return points[skip_initial:], chosen_vertices[skip_initial:]\n",
        "\n",
        "# # Run (after solutions enabled):\n",
        "# # start = (0.5, 0.3)\n",
        "# # tri_points, tri_choices = play_chaos_game(triangle_vertices, start, num_steps=20000)\n",
        "# # scatter_points(tri_points, title=\"Sierpiński Triangle (Chaos Game)\", s=0.3)\n"
      ],
      "id": "IXyNF5zYS8yh"
    },
    {
      "cell_type": "markdown",
      "metadata": {
        "id": "mrWkEPzcS8yh"
      },
      "source": [
        "\n",
        "### Task 5.4 — Experiment with the fraction\n",
        "- Change the `fraction` from 0.5 to another value (e.g., 0.45 or 0.6).\n",
        "- What happens to the pattern?\n"
      ],
      "id": "mrWkEPzcS8yh"
    },
    {
      "cell_type": "code",
      "execution_count": null,
      "metadata": {
        "id": "DOYdvSMKS8yh"
      },
      "outputs": [],
      "source": [
        "\n",
        "# Try changing the fraction and re-plotting\n",
        "# start = (0.5, 0.3)\n",
        "# tri_points_045, _ = play_chaos_game(triangle_vertices, start, num_steps=20000, fraction=0.45)\n",
        "# scatter_points(tri_points_045, title=\"Triangle with fraction=0.45\", s=0.3)\n"
      ],
      "id": "DOYdvSMKS8yh"
    },
    {
      "cell_type": "markdown",
      "metadata": {
        "id": "sXha89DrS8yi"
      },
      "source": [
        "\n",
        "---\n",
        "<a id=\"carpet\"></a>\n",
        "## 6) Project 2: Sierpiński Carpet\n",
        "\n",
        "Two approaches:\n",
        "1) **Deterministic mask** on a \\(3^n \\times 3^n\\) grid (remove center at each scale)  \n",
        "2) **Chaos Game / IFS** with 8 maps (skip the center)\n"
      ],
      "id": "sXha89DrS8yi"
    },
    {
      "cell_type": "markdown",
      "metadata": {
        "id": "LQ8ynaFVS8yi"
      },
      "source": [
        "\n",
        "### Task 6.1 — Implement the carpet mask\n",
        "Algorithm (base‑3 logic): A cell `(i,j)` is **removed** if at **any** digit place both `i` and `j` have digit `1` in base‑3.\n"
      ],
      "id": "LQ8ynaFVS8yi"
    },
    {
      "cell_type": "code",
      "execution_count": null,
      "metadata": {
        "id": "xOws44sJS8yi"
      },
      "outputs": [],
      "source": [
        "# Solution (uncomment):\n",
        "# def sierpinski_carpet_mask(level):\n",
        "#     n = 3 ** level\n",
        "#     mask = np.ones((n, n), dtype=bool)\n",
        "#     for i in range(n):\n",
        "#         for j in range(n):\n",
        "#             x, y = i, j\n",
        "#             keep = True\n",
        "#             for _ in range(level):\n",
        "#                 if x % 3 == 1 and y % 3 == 1:\n",
        "#                     keep = False; break\n",
        "#                 x //= 3; y //= 3\n",
        "#             mask[i, j] = keep\n",
        "#     return mask\n",
        "\n",
        "def show_mask(mask, title=\"Sierpiński Carpet (mask)\"):\n",
        "    plt.figure(figsize=(6,6))\n",
        "    plt.imshow(mask, origin='lower', interpolation='nearest')\n",
        "    plt.xticks([]); plt.yticks([])\n",
        "    plt.title(title)\n",
        "    plt.show()\n",
        "\n",
        "# # After enabling solution:\n",
        "# # for L in [1,2,3,4]:\n",
        "# #     show_mask(sierpinski_carpet_mask(L), title=f\"Carpet Mask (Level {L})\")\n"
      ],
      "id": "xOws44sJS8yi"
    },
    {
      "cell_type": "markdown",
      "metadata": {
        "id": "GfZDj2UsS8yi"
      },
      "source": [
        "\n",
        "### Task 6.2 — Chaos Game / IFS for the carpet\n",
        "Use scale `1/3` and 8 offsets from the 3×3 grid **excluding the center**:  \n",
        "`(0,0),(1,0),(2,0),(0,1),(2,1),(0,2),(1,2),(2,2)`\n"
      ],
      "id": "GfZDj2UsS8yi"
    },
    {
      "cell_type": "code",
      "source": [],
      "metadata": {
        "id": "xnecPKH4UO5o"
      },
      "id": "xnecPKH4UO5o",
      "execution_count": null,
      "outputs": []
    },
    {
      "cell_type": "code",
      "source": [],
      "metadata": {
        "id": "4v_RMbIgUPIe"
      },
      "id": "4v_RMbIgUPIe",
      "execution_count": null,
      "outputs": []
    },
    {
      "cell_type": "code",
      "source": [],
      "metadata": {
        "id": "Ch272oT5UPTI"
      },
      "id": "Ch272oT5UPTI",
      "execution_count": null,
      "outputs": []
    },
    {
      "cell_type": "code",
      "source": [],
      "metadata": {
        "id": "434637PeUPc9"
      },
      "id": "434637PeUPc9",
      "execution_count": null,
      "outputs": []
    },
    {
      "cell_type": "markdown",
      "metadata": {
        "id": "6zay5iSjS8yi"
      },
      "source": [
        "\n",
        "### (Optional) Timing comparison\n",
        "Compare mask (level) vs. Chaos Game (number of points).\n"
      ],
      "id": "6zay5iSjS8yi"
    },
    {
      "cell_type": "code",
      "execution_count": null,
      "metadata": {
        "id": "wbPN0C3_S8yi"
      },
      "outputs": [],
      "source": [
        "\n",
        "def time_mask(level):\n",
        "    t0 = time.time()\n",
        "    m = sierpinski_carpet_mask(level)\n",
        "    t1 = time.time()\n",
        "    return (t1 - t0), m\n",
        "\n",
        "def time_ifs(npts):\n",
        "    t0 = time.time()\n",
        "    pts = chaos_game_carpet(npts)\n",
        "    t1 = time.time()\n",
        "    return (t1 - t0), pts\n",
        "\n",
        "# Example (after enabling solutions):\n",
        "# tm, m = time_mask(5)   # 3**5 = 243\n",
        "# ti, p = time_ifs(60000)\n",
        "# print(f\"Mask L=5: {tm:.3f}s, pixels={m.size}, filled={int(m.sum())}\")\n",
        "# print(f\"IFS 60k pts: {ti:.3f}s, points={len(p)}\")\n"
      ],
      "id": "wbPN0C3_S8yi"
    },
    {
      "cell_type": "markdown",
      "metadata": {
        "id": "edRIj30vS8yi"
      },
      "source": [
        "\n",
        "---\n",
        "<a id=\"reflect\"></a>\n",
        "## 7) Explore & Reflect\n",
        "\n",
        "- How does changing the **fraction** affect the triangle pattern? Why?  \n",
        "- For the carpet mask, derive the **filled ratio** after level `n` (hint: 8 of 9 squares remain each level).  \n",
        "- Can you invent a new fractal by tweaking the offset set or using a different fraction?\n"
      ],
      "id": "edRIj30vS8yi"
    }
  ],
  "metadata": {
    "kernelspec": {
      "display_name": "Python 3",
      "language": "python",
      "name": "python3"
    },
    "language_info": {
      "name": "python",
      "version": "3"
    },
    "colab": {
      "provenance": [],
      "include_colab_link": true
    }
  },
  "nbformat": 4,
  "nbformat_minor": 5
}