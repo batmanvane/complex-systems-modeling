{
  "cells": [
    {
      "cell_type": "markdown",
      "metadata": {
        "id": "view-in-github",
        "colab_type": "text"
      },
      "source": [
        "<a href=\"https://colab.research.google.com/github/batmanvane/complex-systems-modeling/blob/main/notebooks/session01_intro_python/1_1_intro_python_patterns.ipynb\" target=\"_parent\"><img src=\"https://colab.research.google.com/assets/colab-badge.svg\" alt=\"Open In Colab\"/></a>\n",
        "\n",
        "# **Complex Systems Modeling - Session 1**\n",
        "## Introduction to Python & Simple Pattern Generation\n",
        "\n",
        "Welcome to computational modeling! Today we'll learn to use Google Colab as our \"calculator\" for understanding complex systems. Just like you use a calculator to solve math problems, we'll use Python to explore how simple rules create complex patterns.\n",
        "\n",
        "**Key Concept**: Simple local rules → Complex global behavior\n",
        "\n",
        "Work through each cell by clicking the play button (▶) or pressing Shift+Enter."
      ]
    },
    {
      "cell_type": "code",
      "execution_count": null,
      "metadata": {
        "id": "imports"
      },
      "outputs": [],
      "source": [
        "# Import our tools (like getting a calculator ready)\n",
        "import numpy as np              # For numbers and arrays\n",
        "import matplotlib.pyplot as plt # For drawing\n",
        "import random                   # For randomness\n",
        "\n",
        "print(\"Tools ready! Let's start modeling.\")"
      ]
    },
    {
      "cell_type": "markdown",
      "metadata": {},
      "source": [
        "## Part 1: Basic Python Concepts\n",
        "\n",
        "Let's start with the building blocks we need for modeling complex systems."
      ]
    },
    {
      "cell_type": "code",
      "execution_count": null,
      "metadata": {},
      "outputs": [],
      "source": [
        "# Variables - storing information\n",
        "x = 0.5    # A single number (our starting point)\n",
        "y = 0.3\n",
        "\n",
        "print(f\"Starting position: ({x}, {y})\")\n",
        "\n",
        "# Lists - storing multiple values\n",
        "x_positions = [0.1, 0.5, 0.9]  # Multiple x coordinates\n",
        "y_positions = [0.2, 0.8, 0.1]  # Multiple y coordinates\n",
        "\n",
        "print(f\"Multiple positions: {list(zip(x_positions, y_positions))}\")"
      ]
    },
    {
      "cell_type": "code",
      "execution_count": null,
      "metadata": {},
      "outputs": [],
      "source": [
        "# Functions - reusable pieces of code (like mathematical functions)\n",
        "def midpoint(point1, point2):\n",
        "    \"\"\"Find the midpoint between two points - a simple rule!\"\"\"\n",
        "    x1, y1 = point1\n",
        "    x2, y2 = point2\n",
        "    \n",
        "    mid_x = (x1 + x2) / 2\n",
        "    mid_y = (y1 + y2) / 2\n",
        "    \n",
        "    return (mid_x, mid_y)\n",
        "\n",
        "# Test our function\n",
        "point_A = (0, 0)\n",
        "point_B = (1, 1)\n",
        "middle = midpoint(point_A, point_B)\n",
        "\n",
        "print(f\"Midpoint between {point_A} and {point_B} is {middle}\")\n",
        "\n",
        "# TODO: Try changing point_A and point_B to different values and see what happens"
      ]
    },
    {
      "cell_type": "markdown",
      "metadata": {},
      "source": [
        "## Part 2: Making Our First Plot\n",
        "\n",
        "Visualization is crucial for understanding complex systems!"
      ]
    },
    {
      "cell_type": "code",
      "execution_count": null,
      "metadata": {},
      "outputs": [],
      "source": [
        "# Let's plot some points\n",
        "fig, ax = plt.subplots(figsize=(6, 6))\n",
        "\n",
        "# Plot our test points\n",
        "points = [(0, 0), (1, 1), (0.5, 0.5)]  # Start, end, and midpoint\n",
        "\n",
        "for i, point in enumerate(points):\n",
        "    x, y = point\n",
        "    if i < 2:\n",
        "        ax.plot(x, y, 'ro', markersize=10, label=f'Point {i+1}')\n",
        "    else:\n",
        "        ax.plot(x, y, 'bo', markersize=8, label='Midpoint')\n",
        "\n",
        "ax.set_xlim(-0.1, 1.1)\n",
        "ax.set_ylim(-0.1, 1.1)\n",
        "ax.set_xlabel('X coordinate')\n",
        "ax.set_ylabel('Y coordinate')\n",
        "ax.set_title('Simple Points and Their Midpoint')\n",
        "ax.legend()\n",
        "ax.grid(True, alpha=0.3)\n",
        "plt.show()\n",
        "\n",
        "print(\"This is how we visualize our system!\")"
      ]
    },
    {
      "cell_type": "markdown",
      "metadata": {},
      "source": [
        "## Part 3: Loops - Repeating Simple Rules\n",
        "\n",
        "Complex systems emerge when simple rules are repeated many times. Let's learn about loops!"
      ]
    },
    {
      "cell_type": "code",
      "execution_count": null,
      "metadata": {},
      "outputs": [],
      "source": [
        "# A simple pattern: repeatedly move toward a target\n",
        "def generate_converging_points(start, target, steps=10):\n",
        "    \"\"\"Simple rule: always move halfway toward the target\"\"\"\n",
        "    points = [start]  # Start with initial position\n",
        "    current = start\n",
        "    \n",
        "    for i in range(steps):\n",
        "        # Apply our simple rule: move halfway to target\n",
        "        next_point = midpoint(current, target)\n",
        "        points.append(next_point)\n",
        "        current = next_point\n",
        "        \n",
        "        # Let's see what's happening\n",
        "        print(f\"Step {i+1}: {current}\")\n",
        "    \n",
        "    return points\n",
        "\n",
        "# Apply our simple rule repeatedly\n",
        "start_point = (0.1, 0.1)\n",
        "target_point = (0.8, 0.8)\n",
        "\n",
        "trajectory = generate_converging_points(start_point, target_point, 8)\n",
        "\n",
        "print(f\"\\nStarted at {start_point}, moving toward {target_point}\")\n",
        "print(f\"Generated {len(trajectory)} points\")"
      ]
    },
    {
      "cell_type": "code",
      "execution_count": null,
      "metadata": {},
      "outputs": [],
      "source": [
        "# Visualize the pattern that emerges\n",
        "fig, ax = plt.subplots(figsize=(8, 6))\n",
        "\n",
        "# Extract x and y coordinates\n",
        "x_coords = [point[0] for point in trajectory]\n",
        "y_coords = [point[1] for point in trajectory]\n",
        "\n",
        "# Plot the trajectory\n",
        "ax.plot(x_coords, y_coords, 'b-', alpha=0.7, linewidth=2, label='Path')\n",
        "ax.plot(x_coords, y_coords, 'ro', markersize=6, alpha=0.8, label='Points')\n",
        "\n",
        "# Highlight start and target\n",
        "ax.plot(start_point[0], start_point[1], 'go', markersize=12, label='Start')\n",
        "ax.plot(target_point[0], target_point[1], 'rs', markersize=12, label='Target')\n",
        "\n",
        "ax.set_xlim(0, 1)\n",
        "ax.set_ylim(0, 1)\n",
        "ax.set_xlabel('X coordinate')\n",
        "ax.set_ylabel('Y coordinate')\n",
        "ax.set_title('Simple Rule: \"Move Halfway to Target\"')\n",
        "ax.legend()\n",
        "ax.grid(True, alpha=0.3)\n",
        "plt.show()\n",
        "\n",
        "# TODO: Try changing the start_point or target_point and see what happens!\n",
        "# TODO: What happens if you increase the number of steps?"
      ]
    },
    {
      "cell_type": "markdown",
      "metadata": {},
      "source": [
        "## Part 4: Adding Randomness - The Seeds of Complexity\n",
        "\n",
        "Many complex systems include randomness. Let's introduce random choice!"
      ]
    },
    {
      "cell_type": "code",
      "execution_count": null,
      "metadata": {},
      "outputs": [],
      "source": [
        "# Multiple targets - randomly choose which one to move toward\n",
        "def random_walk_with_targets(start, targets, steps=50):\n",
        "    \"\"\"Simple rule: randomly pick a target, then move halfway toward it\"\"\"\n",
        "    points = [start]\n",
        "    current = start\n",
        "    \n",
        "    for i in range(steps):\n",
        "        # Randomly choose a target\n",
        "        chosen_target = random.choice(targets)\n",
        "        \n",
        "        # Move halfway toward chosen target\n",
        "        next_point = midpoint(current, chosen_target)\n",
        "        points.append(next_point)\n",
        "        current = next_point\n",
        "    \n",
        "    return points\n",
        "\n",
        "# Define three corner targets (triangle vertices)\n",
        "triangle_vertices = [(0, 0), (1, 0), (0.5, 1)]\n",
        "start_point = (0.5, 0.3)\n",
        "\n",
        "# Generate random walk\n",
        "random_trajectory = random_walk_with_targets(start_point, triangle_vertices, 100)\n",
        "\n",
        "print(f\"Generated {len(random_trajectory)} points using random target selection\")\n",
        "print(f\"Targets were: {triangle_vertices}\")"
      ]
    },
    {
      "cell_type": "code",
      "execution_count": null,
      "metadata": {},
      "outputs": [],
      "source": [
        "# Visualize the random walk pattern\n",
        "fig, ax = plt.subplots(figsize=(10, 8))\n",
        "\n",
        "# Extract coordinates\n",
        "x_coords = [point[0] for point in random_trajectory]\n",
        "y_coords = [point[1] for point in random_trajectory]\n",
        "\n",
        "# Plot the random walk\n",
        "ax.plot(x_coords, y_coords, 'b-', alpha=0.3, linewidth=1)\n",
        "ax.scatter(x_coords[1:], y_coords[1:], c='blue', s=20, alpha=0.6, label='Walk points')\n",
        "\n",
        "# Plot the triangle vertices (targets)\n",
        "for i, vertex in enumerate(triangle_vertices):\n",
        "    ax.plot(vertex[0], vertex[1], 'ro', markersize=15, label=f'Target {i+1}' if i == 0 else \"\")\n",
        "\n",
        "# Highlight starting point\n",
        "ax.plot(start_point[0], start_point[1], 'go', markersize=12, label='Start')\n",
        "\n",
        "ax.set_xlim(-0.1, 1.1)\n",
        "ax.set_ylim(-0.1, 1.1)\n",
        "ax.set_xlabel('X coordinate')\n",
        "ax.set_ylabel('Y coordinate')\n",
        "ax.set_title('Random Walk: Simple Rule + Random Choice')\n",
        "ax.legend()\n",
        "ax.grid(True, alpha=0.3)\n",
        "plt.show()\n",
        "\n",
        "print(\"Notice: Simple rule + randomness = complex-looking pattern!\")\n",
        "\n",
        "# TODO: Run this cell multiple times - does the pattern look the same?\n",
        "# TODO: What do you think would happen with more steps?"
      ]
    },
    {
      "cell_type": "markdown",
      "metadata": {},
      "source": [
        "## Part 5: Your First Complex System Exploration\n",
        "\n",
        "Now let's explore what happens when we apply our simple rule many, many times!"
      ]
    },
    {
      "cell_type": "code",
      "execution_count": null,
      "metadata": {},
      "outputs": [],
      "source": [
        "# TODO: Complete this function\n",
        "def explore_pattern_density(start, targets, steps):\n",
        "    \"\"\"Generate many points and see where they cluster\"\"\"\n",
        "    # TODO: Use the random_walk_with_targets function to generate points\n",
        "    points = random_walk_with_targets(start, targets, steps)\n",
        "    \n",
        "    return points\n",
        "\n",
        "# Let's generate many points and see what emerges!\n",
        "triangle_vertices = [(0, 0), (1, 0), (0.5, 1)]\n",
        "start_point = (0.3, 0.4)\n",
        "\n",
        "# Try different numbers of steps\n",
        "step_counts = [100, 500, 1000, 2000]\n",
        "\n",
        "fig, axes = plt.subplots(2, 2, figsize=(12, 10))\n",
        "axes = axes.flatten()\n",
        "\n",
        "for i, steps in enumerate(step_counts):\n",
        "    points = explore_pattern_density(start_point, triangle_vertices, steps)\n",
        "    \n",
        "    # Extract coordinates\n",
        "    x_coords = [point[0] for point in points[10:]]  # Skip first few points\n",
        "    y_coords = [point[1] for point in points[10:]]\n",
        "    \n",
        "    # Plot\n",
        "    axes[i].scatter(x_coords, y_coords, c='blue', s=1, alpha=0.7)\n",
        "    \n",
        "    # Plot triangle vertices\n",
        "    for vertex in triangle_vertices:\n",
        "        axes[i].plot(vertex[0], vertex[1], 'ro', markersize=8)\n",
        "    \n",
        "    axes[i].set_xlim(-0.05, 1.05)\n",
        "    axes[i].set_ylim(-0.05, 1.05)\n",
        "    axes[i].set_title(f'{steps} steps')\n",
        "    axes[i].grid(True, alpha=0.3)\n",
        "\n",
        "plt.tight_layout()\n",
        "plt.suptitle('Emergence: What pattern appears as we increase iterations?', y=1.02)\n",
        "plt.show()\n",
        "\n",
        "print(\"What do you see emerging? Does it remind you of any famous mathematical pattern?\")"
      ]
    },
    {
      "cell_type": "markdown",
      "metadata": {},
      "source": [
        "## Reflection Questions\n",
        "\n",
        "Before we move to Session 2, think about these questions:\n",
        "\n",
        "1. **Simple Rule**: What was our simple rule in the random walk?\n",
        "2. **Emergence**: What pattern do you see emerging in the plots above?\n",
        "3. **Predictability**: Could you have predicted this pattern just by looking at the rule?\n",
        "4. **Complex Systems**: How does this relate to the concept \"local simple rules → global complex behavior\"?\n",
        "\n",
        "## Programming Concepts You've Learned\n",
        "\n",
        "✅ Variables and lists  \n",
        "✅ Functions (reusable code)  \n",
        "✅ Loops (repetition)  \n",
        "✅ Random choice  \n",
        "✅ Plotting and visualization  \n",
        "✅ The concept of emergence  \n",
        "\n",
        "## Next Session Preview\n",
        "\n",
        "In Session 2, we'll:\n",
        "- Learn about the **Chaos Game** formally\n",
        "- Implement the **Sierpiński Triangle** \n",
        "- Explore **Sierpiński Carpet**\n",
        "- For advanced students: Other fractals!\n",
        "\n",
        "**Homework**: Try changing the triangle vertices to different positions. What happens to the emerging pattern?\n"
      ]
    },
    {
      "cell_type": "code",
      "execution_count": null,
      "metadata": {},
      "outputs": [],
      "source": [
        "# TODO: Experiment zone - try your own modifications!\n",
        "# 1. Change the triangle vertices to make a different shape\n",
        "# 2. Try 4 targets instead of 3 (square instead of triangle)\n",
        "# 3. What happens with just 2 targets?\n",
        "\n",
        "# Your experiments here:\n",
        "experimental_targets = [(0, 0), (1, 0), (0, 1), (1, 1)]  # Try a square!\n",
        "\n",
        "# TODO: Generate and plot the pattern with these new targets\n"
      ]
    }
  ],
  "metadata": {
    "colab": {
      "provenance": [],
      "include_colab_link": true
    },
    "kernelspec": {
      "display_name": "Python 3",
      "name": "python3"
    },
    "language_info": {
      "name": "python"
    }
  },
  "nbformat": 4,
  "nbformat_minor": 0
}
