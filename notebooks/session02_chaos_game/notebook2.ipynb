{\rtf1\ansi\ansicpg1252\cocoartf2822
\cocoatextscaling0\cocoaplatform0{\fonttbl\f0\fnil\fcharset0 Menlo-Regular;\f1\fnil\fcharset0 AppleColorEmoji;}
{\colortbl;\red255\green255\blue255;}
{\*\expandedcolortbl;;}
\paperw11900\paperh16840\margl720\margr720\vieww20480\viewh6980\viewkind0
\pard\tx720\tx1440\tx2160\tx2880\tx3600\tx4320\tx5040\tx5760\tx6480\tx7200\tx7920\tx8640\pardirnatural\partightenfactor0

\f0\fs22 \cf0 print("
\f1 \uc0\u55357 \u56634 
\f0  The Sierpi\uc0\u324 ski Triangle: A fractal with infinite detail!")\
print("Simple rule: Pick random vertex, move halfway toward it.")\
print("Complex result: A fractal pattern that repeats at all scales")\
\
\
      ]\
    \},\
    \{\
      "cell_type": "markdown",\
      "metadata": \{\},\
      "source": [\
        "## Part 3: Understanding Self-Similarity\\n",\
        "\\n",\
        "A key property of fractals is **self-similarity**: the pattern looks the same at different scales. Let's explore this!"\
      ]\
    \},\
    \{\
      "cell_type": "code",\
      "execution_count": null,\
      "metadata": \{\},\
      "outputs": [],\
      "source": [\
        "# Let's zoom into different parts of the triangle\\n",\
        "def plot_triangle_zoom_comparison():\\n",\
        "    \\"\\"\\"Show the self-similar nature of the Sierpi\uc0\u324 ski Triangle.\\"\\"\\"\\n",\
        "    \\n",\
        "    # Generate high-resolution triangle\\n",\
        "    points, vertices, _ = create_sierpinski_triangle(25000)\\n",\
        "    \\n",\
        "    fig, axes = plt.subplots(1, 3, figsize=(15, 5))\\n",\
        "    \\n",\
        "    # Full triangle\\n",\
        "    x_coords = [p[0] for p in points]\\n",\
        "    y_coords = [p[1] for p in points]\\n",\
        "    \\n",\
        "    axes[0].scatter(x_coords, y_coords, s=0.1, c='blue', alpha=0.8)\\n",\
        "    axes[0].set_title('Full Triangle')\\n",\
        "    axes[0].set_xlim(0, 1)\\n",\
        "    axes[0].set_ylim(0, 0.866)\\n",\
        "    axes[0].set_aspect('equal')\\n",\
        "    \\n",\
        "    # Zoom into bottom-left corner\\n",\
        "    axes[1].scatter(x_coords, y_coords, s=0.5, c='red', alpha=0.8)\\n",\
        "    axes[1].set_title('Zoomed: Bottom-Left')\\n",\
        "    axes[1].set_xlim(0, 0.5)\\n",\
        "    axes[1].set_ylim(0, 0.433)\\n",\
        "    axes[1].set_aspect('equal')\\n",\
        "    \\n",\
        "    # Zoom into top section\\n",\
        "    axes[2].scatter(x_coords, y_coords, s=1, c='green', alpha=0.8)\\n",\
        "    axes[2].set_title('Zoomed: Top Section')\\n",\
        "    axes[2].set_xlim(0.25, 0.75)\\n",\
        "    axes[2].set_ylim(0.433, 0.866)\\n",\
        "    axes[2].set_aspect('equal')\\n",\
        "    \\n",\
        "    for ax in axes:\\n",\
        "        ax.set_xticks([])\\n",\
        "        ax.set_yticks([])\\n",\
        "    \\n",\
        "    plt.tight_layout()\\n",\
        "    plt.suptitle('Self-Similarity: The pattern repeats at every scale!', y=1.02)\\n",\
        "    plt.show()\\n",\
        "\\n",\
        "plot_triangle_zoom_comparison()\\n",\
        "print(\\"Notice: Each zoomed section looks like a smaller version of the whole!\\")"\
      ]\
    \},\
    \{\
      "cell_type": "markdown",\
      "metadata": \{\},\
      "source": [\
        "## Part 4: The Sierpi\uc0\u324 ski Carpet - Main Challenge!\\n",\
        "\\n",\
        "Now for the main event: creating the Sierpi\uc0\u324 ski Carpet using the chaos game! This is more complex than the triangle."\
      ]\
    \},\
    \{\
      "cell_type": "code",\
      "execution_count": null,\
      "metadata": \{\},\
      "outputs": [],\
      "source": [\
        "def create_sierpinski_carpet_vertices():\\n",\
        "    \\"\\"\\"Create the 8 vertices for the Sierpi\uc0\u324 ski Carpet chaos game.\\n",\
        "    \\n",\
        "    The Sierpi\uc0\u324 ski Carpet uses a 3x3 grid with the center removed.\\n",\
        "    We need the 8 outer corners as our vertices.\\n",\
        "    \\"\\"\\"\\n",\
        "    # TODO: Define the 8 vertices of a 3x3 grid (excluding center)\\n",\
        "    # Grid positions: (0,0), (1,0), (2,0), (0,1), (2,1), (0,2), (1,2), (2,2)\\n",\
        "    \\n",\
        "    vertices = [\\n",\
        "        (0, 0), (1, 0), (2, 0),  # Bottom row\\n",\
        "        (0, 1),         (2, 1),  # Middle row (center omitted)\\n",\
        "        (0, 2), (1, 2), (2, 2)   # Top row\\n",\
        "    ]\\n",\
        "    \\n",\
        "    return vertices\\n",\
        "\\n",\
        "def chaos_game_carpet_step(current_point, vertices, fraction=2/3):\\n",\
        "    \\"\\"\\"\\n",\
        "    Special chaos game step for Sierpi\uc0\u324 ski Carpet.\\n",\
        "    \\n",\
        "    Key difference: We move 2/3 of the way toward the chosen vertex,\\n",\
        "    not 1/2 like in the triangle case.\\n",\
        "    \\"\\"\\"\\n",\
        "    # TODO: Complete this function (similar to triangle version)\\n",\
        "    chosen_vertex = random.choice(vertices)\\n",\
        "    \\n",\
        "    current_x, current_y = current_point\\n",\
        "    vertex_x, vertex_y = chosen_vertex\\n",\
        "    \\n",\
        "    # Move 2/3 of the way toward chosen vertex\\n",\
        "    new_x = current_x + fraction * (vertex_x - current_x)\\n",\
        "    new_y = current_y + fraction * (vertex_y - current_y)\\n",\
        "    \\n",\
        "    return (new_x, new_y), chosen_vertex\\n",\
        "\\n",\
        "# Test the carpet vertices\\n",\
        "carpet_vertices = create_sierpinski_carpet_vertices()\\n",\
        "print(f\\"Carpet vertices: \{carpet_vertices\}\\")\\n",\
        "print(f\\"Number of vertices: \{len(carpet_vertices)\}\\")\\n",\
        "\\n",\
        "# Visualize the vertex arrangement\\n",\
        "fig, ax = plt.subplots(figsize=(6, 6))\\n",\
        "for i, vertex in enumerate(carpet_vertices):\\n",\
        "    ax.plot(vertex[0], vertex[1], 'ro', markersize=15)\\n",\
        "    ax.text(vertex[0]+0.1, vertex[1]+0.1, str(i+1), fontsize=12)\\n",\
        "\\n",\
        "ax.set_xlim(-0.5, 2.5)\\n",\
        "ax.set_ylim(-0.5, 2.5)\\n",\
        "ax.set_aspect('equal')\\n",\
        "ax.grid(True, alpha=0.3)\\n",\
        "ax.set_title('Sierpi\uc0\u324 ski Carpet: 8 Vertices (Center Missing)')\\n",\
        "plt.show()"\
      ]\
    \},\
    \{\
      "cell_type": "code",\
      "execution_count": null,\
      "metadata": \{\},\
      "outputs": [],\
      "source": [\
        "def play_carpet_chaos_game(num_steps=20000):\\n",\
        "    \\"\\"\\"Generate the Sierpi\uc0\u324 ski Carpet using the chaos game.\\"\\"\\"\\n",\
        "    \\n",\
        "    vertices = create_sierpinski_carpet_vertices()\\n",\
        "    start_point = (1.0, 1.0)  # Start in the middle\\n",\
        "    \\n",\
        "    points = [start_point]\\n",\
        "    current = start_point\\n",\
        "    \\n",\
        "    print(f\\"Generating Sierpi\uc0\u324 ski Carpet with \{num_steps\} iterations...\\")\\n",\
        "    \\n",\
        "    for step in range(num_steps):\\n",\
        "        # TODO: Use chaos_game_carpet_step to generate next point\\n",\
        "        current, _ = chaos_game_carpet_step(current, vertices)\\n",\
        "        points.append(current)\\n",\
        "        \\n",\
        "        # Progress indicator\\n",\
        "        if step % 5000 == 0:\\n",\
        "            print(f\\"  Progress: \{step\}/\{num_steps\} steps\\")\\n",\
        "    \\n",\
        "    # Skip initial transient points\\n",\
        "    return points[100:], vertices\\n",\
        "\\n",\
        "# Generate the carpet\\n",\
        "carpet_points, carpet_vertices = play_carpet_chaos_game(25000)\\n",\
        "print(f\\"\\\\nGenerated \{len(carpet_points)\} carpet points!\\")"\
      ]\
    \},\
    \{\
      "cell_type": "code",\
      "execution_count": null,\
      "metadata": \{\},\
      "outputs": [],\
      "source": [\
        "# Plot the Sierpi\uc0\u324 ski Carpet\\n",\
        "def plot_sierpinski_carpet(points, vertices):\\n",\
        "    \\"\\"\\"Create a beautiful plot of the Sierpi\uc0\u324 ski Carpet.\\"\\"\\"\\n",\
        "    \\n",\
        "    fig, ax = plt.subplots(figsize=(10, 10))\\n",\
        "    \\n",\
        "    # Extract coordinates\\n",\
        "    x_coords = [p[0] for p in points]\\n",\
        "    y_coords = [p[1] for p in points]\\n",\
        "    \\n",\
        "    # Plot the carpet with small points\\n",\
        "    ax.scatter(x_coords, y_coords, s=0.1, c='darkblue', alpha=0.8)\\n",\
        "    \\n",\
        "    # Plot vertices\\n",\
        "    for vertex in vertices:\\n",\
        "        ax.plot(vertex[0], vertex[1], 'ro', markersize=8, alpha=0.7)\\n",\
        "    \\n",\
        "    ax.set_xlim(-0.1, 2.1)\\n",\
        "    ax.set_ylim(-0.1, 2.1)\\n",\
        "    ax.set_aspect('equal')\\n",\
        "    ax.set_title('Sierpi\uc0\u324 ski Carpet: The 2D Fractal!', fontsize=16)\\n",\
        "    \\n",\
        "    # Clean appearance\\n",\
        "    ax.set_xticks([])\\n",\
        "    ax.set_yticks([])\\n",\
        "    ax.set_facecolor('white')\\n",\
        "    \\n",\
        "    plt.tight_layout()\\n",\
        "    plt.show()\\n",\
        "\\n",\
        "plot_sierpinski_carpet(carpet_points, carpet_vertices)\\n",\
        "\\n",\
        "print(\\"
\f1 \uc0\u55357 \u56626 
\f0  The Sierpi\uc0\u324 ski Carpet: A 2D fractal!\\")\\n",\
        "print(\\"Rule: Pick random corner vertex, move 2/3 toward it.\\")\\n",\
        "print(\\"Result: Infinite holes within holes within holes!\\")"\
      ]\
    \},\
    \{\
      "cell_type": "markdown",\
      "metadata": \{\},\
      "source": [\
        "## Part 5: Comparing Triangle vs Carpet\\n",\
        "\\n",\
        "Let's see both fractals side by side to understand their differences and similarities."\
      ]\
    \},\
    \{\
      "cell_type": "code",\
      "execution_count": null,\
      "metadata": \{\},\
      "outputs": [],\
      "source": [\
        "# Side-by-side comparison\\n",\
        "def compare_fractals():\\n",\
        "    \\"\\"\\"Compare the Sierpi\uc0\u324 ski Triangle and Carpet side by side.\\"\\"\\"\\n",\
        "    \\n",\
        "    fig, (ax1, ax2) = plt.subplots(1, 2, figsize=(15, 7))\\n",\
        "    \\n",\
        "    # Triangle\\n",\
        "    triangle_points, triangle_verts, _ = create_sierpinski_triangle(15000)\\n",\
        "    x_tri = [p[0] for p in triangle_points]\\n",\
        "    y_tri = [p[1] for p in triangle_points]\\n",\
        "    \\n",\
        "    ax1.scatter(x_tri, y_tri, s=0.2, c='blue', alpha=0.8)\\n",\
        "    ax1.set_title('Sierpi\uc0\u324 ski Triangle\\\\n3 vertices, move 1/2 way', fontsize=14)\\n",\
        "    ax1.set_aspect('equal')\\n",\
        "    ax1.set_xticks([])\\n",\
        "    ax1.set_yticks([])\\n",\
        "    \\n",\
        "    # Carpet  \\n",\
        "    x_carpet = [p[0] for p in carpet_points]\\n",\
        "    y_carpet = [p[1] for p in carpet_points]\\n",\
        "    \\n",\
        "    ax2.scatter(x_carpet, y_carpet, s=0.2, c='red', alpha=0.8)\\n",\
        "    ax2.set_title('Sierpi\uc0\u324 ski Carpet\\\\n8 vertices, move 2/3 way', fontsize=14)\\n",\
        "    ax2.set_aspect('equal')\\n",\
        "    ax2.set_xticks([])\\n",\
        "    ax2.set_yticks([])\\n",\
        "    \\n",\
        "    plt.tight_layout()\\n",\
        "    plt.suptitle('Two Fractals, Same Method: The Chaos Game', y=1.02, fontsize=16)\\n",\
        "    plt.show()\\n",\
        "\\n",\
        "compare_fractals()\\n",\
        "\\n",\
        "print(\\"Key Differences:\\")\\n",\
        "print(\\"\'95 Triangle: 3 vertices, move halfway (1/2)\\")\\n",\
        "print(\\"\'95 Carpet: 8 vertices, move 2/3 of the way\\")\\n",\
        "print(\\"\\\\nSame underlying principle: Simple rule + repetition = complex pattern!\\")"\
      ]\
    \},\
    \{\
      "cell_type": "markdown",\
      "metadata": \{\},\
      "source": [\
        "## Part 6: Advanced Explorations (For High Performers)\\n",\
        "\\n",\
        "Ready for more? Let's explore other fascinating fractals!"\
      ]\
    \},\
    \{\
      "cell_type": "code",\
      "execution_count": null,\
      "metadata": \{\},\
      "outputs": [],\
      "source": [\
        "# Advanced Challenge 1: The Pentagon Fractal\\n",\
        "def create_pentagon_fractal(num_points=15000):\\n",\
        "    \\"\\"\\"Create a fractal using pentagon vertices.\\"\\"\\"\\n",\
        "    \\n",\
        "    # TODO: Create pentagon vertices\\n",\
        "    # A regular pentagon has vertices at angles 0\'b0, 72\'b0, 144\'b0, 216\'b0, 288\'b0\\n",\
        "    import math\\n",\
        "    \\n",\
        "    vertices = []\\n",\
        "    for i in range(5):\\n",\
        "        angle = i * 2 * math.pi / 5  # 72 degrees in radians\\n",\
        "        x = math.cos(angle)\\n",\
        "        y = math.sin(angle)\\n",\
        "        vertices.append((x, y))\\n",\
        "    \\n",\
        "    # Play chaos game with pentagon\\n",\
        "    start_point = (0.0, 0.0)\\n",\
        "    points = [start_point]\\n",\
        "    current = start_point\\n",\
        "    \\n",\
        "    for _ in range(num_points):\\n",\
        "        # TODO: Try different fractions! Start with 0.618 (golden ratio related)\\n",\
        "        current, _ = chaos_game_step(current, vertices, fraction=0.618)\\n",\
        "        points.append(current)\\n",\
        "    \\n",\
        "    return points[100:], vertices  # Skip transient\\n",\
        "\\n",\
        "# Generate and plot pentagon fractal\\n",\
        "pentagon_points, pentagon_vertices = create_pentagon_fractal()\\n",\
        "\\n",\
        "fig, ax = plt.subplots(figsize=(8, 8))\\n",\
        "x_pent = [p[0] for p in pentagon_points]\\n",\
        "y_pent = [p[1] for p in pentagon_points]\\n",\
        "\\n",\
        "ax.scatter(x_pent, y_pent, s=0.1, c='purple', alpha=0.8)\\n",\
        "ax.set_aspect('equal')\\n",\
        "ax.set_title('Pentagon Fractal (Golden Ratio = 0.618)', fontsize=14)\\n",\
        "ax.set_xticks([])\\n",\
        "ax.set_yticks([])\\n",\
        "plt.show()\\n",\
        "\\n",\
        "print(\\"
\f1 \uc0\u55357 \u56635 
\f0  Pentagon Fractal: 5 vertices with golden ratio movement!\\")"\
      ]\
    \},\
    \{\
      "cell_type": "code",\
      "execution_count": null,\
      "metadata": \{\},\
      "outputs": [],\
      "source": [\
        "# Advanced Challenge 2: Square with Restrictions\\n",\
        "def square_fractal_with_rule(num_points=15000):\\n",\
        "    \\"\\"\\"Square fractal with a special rule: can't choose the same vertex twice in a row.\\"\\"\\"\\n",\
        "    \\n",\
        "    vertices = [(0, 0), (1, 0), (1, 1), (0, 1)]  # Square corners\\n",\
        "    start_point = (0.5, 0.5)\\n",\
        "    \\n",\
        "    points = [start_point]\\n",\
        "    current = start_point\\n",\
        "    last_vertex_index = None\\n",\
        "    \\n",\
        "    for _ in range(num_points):\\n",\
        "        # TODO: Implement restriction - can't choose same vertex as last time\\n",\
        "        available_vertices = vertices.copy()\\n",\
        "        \\n",\
        "        # Remove last chosen vertex if it exists\\n",\
        "        if last_vertex_index is not None:\\n",\
        "            available_vertices.pop(last_vertex_index)\\n",\
        "        \\n",\
        "        # Choose from available vertices\\n",\
        "        chosen_vertex = random.choice(available_vertices)\\n",\
        "        last_vertex_index = vertices.index(chosen_vertex)\\n",\
        "        \\n",\
        "        # Move halfway toward chosen vertex\\n",\
        "        current_x, current_y = current\\n",\
        "        vertex_x, vertex_y = chosen_vertex\\n",\
        "        \\n",\
        "        new_x = (current_x + vertex_x) / 2\\n",\
        "        new_y = (current_y + vertex_y) / 2\\n",\
        "        \\n",\
        "        current = (new_x, new_y)\\n",\
        "        points.append(current)\\n",\
        "    \\n",\
        "    return points[50:], vertices\\n",\
        "\\n",\
        "# Generate restricted square fractal\\n",\
        "square_points, square_vertices = square_fractal_with_rule()\\n",\
        "\\n",\
        "fig, ax = plt.subplots(figsize=(8, 8))\\n",\
        "x_sq = [p[0] for p in square_points]\\n",\
        "y_sq = [p[1] for p in square_points]\\n",\
        "\\n",\
        "ax.scatter(x_sq, y_sq, s=0.2, c='orange', alpha=0.8)\\n",\
        "ax.set_aspect('equal')\\n",\
        "ax.set_title('Square Fractal with Rule:\\\\n\\"Cannot choose same vertex twice in a row\\"', fontsize=14)\\n",\
        "ax.set_xticks([])\\n",\
        "ax.set_yticks([])\\n",\
        "plt.show()\\n",\
        "\\n",\
        "print(\\"
\f1 \uc0\u55357 \u56630 
\f0  Square Fractal with restrictions creates a different pattern!\\")"\
      ]\
    \},\
    \{\
      "cell_type": "markdown",\
      "metadata": \{\},\
      "source": [\
        "## Part 7: Your Own Fractal Laboratory\\n",\
        "\\n",\
        "Now it's your turn to experiment! Try creating your own fractals."\
      ]\
    \},\
    \{\
      "cell_type": "code",\
      "execution_count": null,\
      "metadata": \{\},\
      "outputs": [],\
      "source": [\
        "# TODO: Design Your Own Fractal!\\n",\
        "# Experiment with:\\n",\
        "# 1. Different numbers of vertices\\n",\
        "# 2. Different movement fractions\\n",\
        "# 3. Different vertex arrangements\\n",\
        "# 4. Different rules (restrictions)\\n",\
        "\\n",\
        "def your_custom_fractal():\\n",\
        "    \\"\\"\\"Design your own fractal here!\\"\\"\\"\\n",\
        "    \\n",\
        "    # TODO: Define your vertices\\n",\
        "    # Examples:\\n",\
        "    # - Hexagon: 6 vertices in a circle\\n",\
        "    # - Random arrangement\\n",\
        "    # - L-shape\\n",\
        "    # - Your choice!\\n",\
        "    \\n",\
        "    vertices = [(0, 0), (2, 0), (2, 2), (0, 2)]  # Start with a square, modify this!\\n",\
        "    \\n",\
        "    # TODO: Choose your movement fraction\\n",\
        "    movement_fraction = 0.5  # Try different values!\\n",\
        "    \\n",\
        "    # TODO: Add any special rules\\n",\
        "    \\n",\
        "    start_point = (1.0, 1.0)\\n",\
        "    points = [start_point]\\n",\
        "    current = start_point\\n",\
        "    \\n",\
        "    for _ in range(10000):\\n",\
        "        current, _ = chaos_game_step(current, vertices, movement_fraction)\\n",\
        "        points.append(current)\\n",\
        "    \\n",\
        "    return points[100:], vertices\\n",\
        "\\n",\
        "# Generate your custom fractal\\n",\
        "custom_points, custom_vertices = your_custom_fractal()\\n",\
        "\\n",\
        "# Plot it\\n",\
        "fig, ax = plt.subplots(figsize=(8, 8))\\n",\
        "x_custom = [p[0] for p in custom_points]\\n",\
        "y_custom = [p[1] for p in custom_points]\\n",\
        "\\n",\
        "ax.scatter(x_custom, y_custom, s=0.2, c='green', alpha=0.8)\\n",\
        "ax.set_aspect('equal')\\n",\
        "ax.set_title('Your Custom Fractal!', fontsize=14)\\n",\
        "ax.set_xticks([])\\n",\
        "ax.set_yticks([])\\n",\
        "plt.show()\\n",\
        "\\n",\
        "print(\\"
\f1 \uc0\u55356 \u57256 
\f0  Your custom fractal! Try modifying the vertices or movement fraction.\\")"\
      ]\
    \},\
    \{\
      "cell_type": "markdown",\
      "metadata": \{\},\
      "source": [\
        "## Reflection & Summary\\n",\
        "\\n",\
        "Congratulations! You've now implemented several fractals using the chaos game. Let's reflect on what we've learned about complex systems.\\n",\
        "\\n",\
        "### Key Insights\\n",\
        "\\n",\
        "1. **Simple Rules \uc0\u8594  Complex Patterns**: All our fractals came from very simple rules\\n",\
        "2. **Emergence**: The beautiful patterns were not obvious from the rules\\n",\
        "3. **Self-Similarity**: Patterns repeat at different scales\\n",\
        "4. **Sensitivity**: Small changes in rules create very different patterns\\n",\
        "\\n",\
        "### Programming Skills Mastered\\n",\
        "\\n",\
        "
\f1 \uc0\u9989 
\f0  Functions with parameters  \\n",\
        "
\f1 \uc0\u9989 
\f0  Advanced loops and conditionals  \\n",\
        "
\f1 \uc0\u9989 
\f0  Random selection and restrictions  \\n",\
        "
\f1 \uc0\u9989 
\f0  Data visualization techniques  \\n",\
        "
\f1 \uc0\u9989 
\f0  Mathematical coordinate systems  \\n",\
        "
\f1 \uc0\u9989 
\f0  Algorithm implementation  \\n",\
        "\\n",\
        "### Complex Systems Concepts\\n",\
        "\\n",\
        "
\f1 \uc0\u9989 
\f0  **Local rules**: Simple instructions applied to individual points  \\n",\
        "
\f1 \uc0\u9989 
\f0  **Global emergence**: Complex patterns at the system level  \\n",\
        "
\f1 \uc0\u9989 
\f0  **Fractals**: Self-similar structures in nature and mathematics  \\n",\
        "
\f1 \uc0\u9989 
\f0  **Iteration**: Repeated application of simple rules  \\n",\
        "
\f1 \uc0\u9989 
\f0  **Non-linearity**: Small changes can have large effects  \\n",\
        "\\n",\
        "## Questions for Discussion\\n",\
        "\\n",\
        "1. **Prediction**: Could you have predicted the Sierpi\uc0\u324 ski Triangle just by looking at the chaos game rule?\\n",\
        "\\n",\
        "2. **Real World**: Where might you see similar patterns in nature or society?\\n",\
        "\\n",\
        "3. **Variations**: How do small changes to the rules create completely different patterns?\\n",\
        "\\n",\
        "4. **Applications**: How might this principle (simple rules \uc0\u8594  complex patterns) apply to:\\n",\
        "   - Bird flocking behavior?\\n",\
        "   - Traffic flow?\\n",\
        "   - Economic markets?\\n",\
        "   - Social media spread?\\n",\
        "\\n",\
        "## Next Steps\\n",\
        "\\n",\
        "You now have the tools to explore complex systems! Consider:\\n",\
        "- Implementing other famous fractals\\n",\
        "- Modeling natural phenomena\\n",\
        "- Creating agent-based models\\n",\
        "- Exploring cellular automata\\n",\
        "\\n",\
        "**Remember**: Complex systems are all around us, and computational modeling helps us understand them!"\
      ]\
    \},\
    \{\
      "cell_type": "code",\
      "execution_count": null,\
      "metadata": \{\},\
      "outputs": [],\
      "source": [\
        "# Final celebration: A summary of all your fractals!\\n",\
        "def create_fractal_gallery():\\n",\
        "    \\"\\"\\"Show all the fractals you've created in one beautiful gallery.\\"\\"\\"\\n",\
        "    \\n",\
        "    fig, axes = plt.subplots(2, 3, figsize=(18, 12))\\n",\
        "    axes = axes.flatten()\\n",\
        "    \\n",\
        "    # Generate all fractals quickly for gallery\\n",\
        "    fractals = [\\n",\
        "        (\\"Sierpi\uc0\u324 ski Triangle\\", *create_sierpinski_triangle(5000), 'blue'),\\n",\
        "        (\\"Sierpi\uc0\u324 ski Carpet\\", carpet_points[:5000], carpet_vertices, 'red'),\\n",\
        "        (\\"Pentagon Fractal\\", *create_pentagon_fractal(5000), 'purple'),\\n",\
        "        (\\"Square with Rules\\", *square_fractal_with_rule(5000), 'orange'),\\n",\
        "        (\\"Your Custom Fractal\\", *your_custom_fractal(), 'green')\\n",\
        "    ]\\n",\
        "    \\n",\
        "    for i, (name, points, vertices, color) in enumerate(fractals[:5]):\\n",\
        "        x_coords = [p[0] for p in points]\\n",\
        "        y_coords = [p[1] for p in points]\\n",\
        "        \\n",\
        "        axes[i].scatter(x_coords, y_coords, s=0.1, c=color, alpha=0.8)\\n",\
        "        axes[i].set_title(name, fontsize=12)\\n",\
        "        axes[i].set_aspect('equal')\\n",\
        "        axes[i].set_xticks([])\\n",\
        "        axes[i].set_yticks([])\\n",\
        "    \\n",\
        "    # Final message\\n",\
        "    axes[5].text(0.5, 0.5, '
\f1 \uc0\u55356 \u57225 
\f0 \\\\n\\\\nYou did it!\\\\n\\\\nYou\\\\'ve learned to model\\\\ncomplex systems\\\\nusing simple rules!', \\n",\
        "                ha='center', va='center', fontsize=16, \\n",\
        "                bbox=dict(boxstyle=\\"round,pad=0.3\\", facecolor=\\"lightblue\\", alpha=0.8))\\n",\
        "    axes[5].set_xlim(0, 1)\\n",\
        "    axes[5].set_ylim(0, 1)\\n",\
        "    axes[5].set_xticks([])\\n",\
        "    axes[5].set_yticks([])\\n",\
        "    \\n\{\
  "cells": [\
    \{\
      "cell_type": "markdown",\
      "metadata": \{\
        "id": "view-in-github",\
        "colab_type": "text"\
      \},\
      "source": [\
        "# **Complex Systems Modeling - Session 2**\\n",\
        "## The Chaos Game: From Simple Rules to Sierpi\uc0\u324 ski Fractals\\n",\
        "\\n",\
        "Welcome back! In Session 1, you discovered that simple rules + repetition + randomness can create surprising patterns. Today we'll formalize this as the **\\"Chaos Game\\"** and create some famous fractals!\\n",\
        "\\n",\
        "**What you discovered last time**: Random walk with midpoint rule \uc0\u8594  Triangle-like pattern\\n",\
        "\\n",\
        "**What that pattern was**: The famous **Sierpi\uc0\u324 ski Triangle**!\\n",\
        "\\n",\
        "Today we'll:\\n",\
        "1. Implement the Chaos Game properly\\n",\
        "2. Generate the Sierpi\uc0\u324 ski Triangle\\n",\
        "3. Create the Sierpi\uc0\u324 ski Carpet\\n",\
        "4. Explore other fractals (advanced)"\
      ]\
    \},\
    \{\
      "cell_type": "code",\
      "execution_count": null,\
      "metadata": \{\
        "id": "imports"\
      \},\
      "outputs": [],\
      "source": [\
        "# Import our modeling tools\\n",\
        "import numpy as np\\n",\
        "import matplotlib.pyplot as plt\\n",\
        "import random\\n",\
        "from matplotlib.colors import ListedColormap\\n",\
        "import time\\n",\
        "\\n",\
        "print(\\"Ready to play the Chaos Game! 
\f1 \uc0\u55356 \u57266 
\f0 \\")\\n",\
        "print(\\"Remember: Simple rules \uc0\u8594  Complex beauty\\")"\
      ]\
    \},\
    \{\
      "cell_type": "markdown",\
      "metadata": \{\},\
      "source": [\
        "## Part 1: The Chaos Game - Formal Definition\\n",\
        "\\n",\
        "The **Chaos Game** is a method for generating fractals:\\n",\
        "\\n",\
        "1. **Setup**: Choose a set of vertices (anchor points)\\n",\
        "2. **Start**: Begin at any point\\n",\
        "3. **Rule**: Randomly select a vertex, move partway toward it\\n",\
        "4. **Repeat**: Do step 3 many times\\n",\
        "5. **Observe**: A fractal pattern emerges!\\n",\
        "\\n",\
        "Let's implement this step by step."\
      ]\
    \},\
    \{\
      "cell_type": "code",\
      "execution_count": null,\
      "metadata": \{\},\
      "outputs": [],\
      "source": [\
        "def chaos_game_step(current_point, vertices, fraction=0.5):\\n",\
        "    \\"\\"\\"\\n",\
        "    Perform one step of the chaos game.\\n",\
        "    \\n",\
        "    Args:\\n",\
        "        current_point: (x, y) current position\\n",\
        "        vertices: list of (x, y) vertex positions\\n",\
        "        fraction: how far to move toward chosen vertex (default 0.5 = halfway)\\n",\
        "    \\n",\
        "    Returns:\\n",\
        "        next_point: (x, y) new position\\n",\
        "        chosen_vertex: which vertex was selected\\n",\
        "    \\"\\"\\"\\n",\
        "    # TODO: Complete this function\\n",\
        "    # 1. Randomly choose a vertex\\n",\
        "    chosen_vertex = random.choice(vertices)\\n",\
        "    \\n",\
        "    # 2. Calculate new position (move 'fraction' of the way toward chosen vertex)\\n",\
        "    current_x, current_y = current_point\\n",\
        "    vertex_x, vertex_y = chosen_vertex\\n",\
        "    \\n",\
        "    new_x = current_x + fraction * (vertex_x - current_x)\\n",\
        "    new_y = current_y + fraction * (vertex_y - current_y)\\n",\
        "    \\n",\
        "    next_point = (new_x, new_y)\\n",\
        "    \\n",\
        "    return next_point, chosen_vertex\\n",\
        "\\n",\
        "# Test our function\\n",\
        "test_vertices = [(0, 0), (1, 0), (0.5, 1)]\\n",\
        "test_start = (0.5, 0.5)\\n",\
        "\\n",\
        "next_pos, chosen = chaos_game_step(test_start, test_vertices)\\n",\
        "print(f\\"Started at: \{test_start\}\\")\\n",\
        "print(f\\"Chose vertex: \{chosen\}\\")\\n",\
        "print(f\\"Moved to: \{next_pos\}\\")"\
      ]\
    \},\
    \{\
      "cell_type": "code",\
      "execution_count": null,\
      "metadata": \{\},\
      "outputs": [],\
      "source": [\
        "def play_chaos_game(vertices, start_point, num_steps, fraction=0.5, skip_initial=100):\\n",\
        "    \\"\\"\\"\\n",\
        "    Play the complete chaos game.\\n",\
        "    \\n",\
        "    Args:\\n",\
        "        vertices: list of vertex positions\\n",\
        "        start_point: starting position\\n",\
        "        num_steps: number of iterations\\n",\
        "        fraction: movement fraction (0.5 = halfway)\\n",\
        "        skip_initial: skip first N points (they're often not on the fractal yet)\\n",\
        "    \\n",\
        "    Returns:\\n",\
        "        points: list of generated points\\n",\
        "        vertex_choices: which vertices were chosen at each step\\n",\
        "    \\"\\"\\"\\n",\
        "    points = [start_point]\\n",\
        "    vertex_choices = []\\n",\
        "    current = start_point\\n",\
        "    \\n",\
        "    for step in range(num_steps):\\n",\
        "        # TODO: Complete the game loop\\n",\
        "        current, chosen_vertex = chaos_game_step(current, vertices, fraction)\\n",\
        "        points.append(current)\\n",\
        "        vertex_choices.append(chosen_vertex)\\n",\
        "    \\n",\
        "    # Return points after skipping initial transient\\n",\
        "    return points[skip_initial:], vertex_choices[skip_initial:]\\n",\
        "\\n",\
        "# Test with a small number of steps\\n",\
        "triangle_vertices = [(0, 0), (1, 0), (0.5, 0.866)]  # Equilateral triangle\\n",\
        "start = (0.5, 0.3)\\n",\
        "\\n",\
        "test_points, test_choices = play_chaos_game(triangle_vertices, start, 20)\\n",\
        "print(f\\"Generated \{len(test_points)\} points\\")\\n",\
        "print(f\\"First few points: \{test_points[:5]\}\\")"\
      ]\
    \},\
    \{\
      "cell_type": "markdown",\
      "metadata": \{\},\
      "source": [\
        "## Part 2: Creating the Sierpi\uc0\u324 ski Triangle\\n",\
        "\\n",\
        "Now let's see what happens when we run many iterations!"\
      ]\
    \},\
    \{\
      "cell_type": "code",\
      "execution_count": null,\
      "metadata": \{\},\
      "outputs": [],\
      "source": [\
        "def create_sierpinski_triangle(num_points=10000):\\n",\
        "    \\"\\"\\"Generate the Sierpi\uc0\u324 ski Triangle using the chaos game.\\"\\"\\"\\n",\
        "    \\n",\
        "    # Define equilateral triangle vertices\\n",\
        "    vertices = [(0, 0), (1, 0), (0.5, np.sqrt(3)/2)]\\n",\
        "    \\n",\
        "    # Start somewhere inside\\n",\
        "    start_point = (0.5, 0.3)\\n",\
        "    \\n",\
        "    # Play the chaos game\\n",\
        "    points, vertex_choices = play_chaos_game(vertices, start_point, num_points)\\n",\
        "    \\n",\
        "    return points, vertices, vertex_choices\\n",\
        "\\n",\
        "# Generate the Sierpi\uc0\u324 ski Triangle\\n",\
        "print(\\"Generating Sierpi\uc0\u324 ski Triangle...\\")\\n",\
        "sierpinski_points, triangle_vertices, choices = create_sierpinski_triangle(15000)\\n",\
        "print(f\\"Generated \{len(sierpinski_points)\} points\\")"\
      ]\
    \},\
    \{\
      "cell_type": "code",\
      "execution_count": null,\
      "metadata": \{\},\
      "outputs": [],\
      "source": [\
        "# Visualize the Sierpi\uc0\u324 ski Triangle\\n",\
        "def plot_fractal(points, vertices, title=\\"Fractal\\", figsize=(10, 8), point_size=0.1):\\n",\
        "    \\"\\"\\"Plot a fractal with its generating vertices.\\"\\"\\"\\n",\
        "    \\n",\
        "    fig, ax = plt.subplots(figsize=figsize)\\n",\
        "    \\n",\
        "    # Extract coordinates\\n",\
        "    x_coords = [p[0] for p in points]\\n",\
        "    y_coords = [p[1] for p in points]\\n",\
        "    \\n",\
        "    # Plot the fractal points\\n",\
        "    ax.scatter(x_coords, y_coords, s=point_size, c='blue', alpha=0.8)\\n",\
        "    \\n",\
        "    # Plot the vertices\\n",\
        "    for i, vertex in enumerate(vertices):\\n",\
        "        ax.plot(vertex[0], vertex[1], 'ro', markersize=10, \\n",\
        "                label=f'Vertex \{i+1\}' if i == 0 else \\"\\")\\n",\
        "    \\n",\
        "    ax.set_aspect('equal')\\n",\
        "    ax.set_title(title, fontsize=14)\\n",\
        "    ax.legend()\\n",\
        "    ax.grid(True, alpha=0.3)\\n",\
        "    \\n",\
        "    # Remove axes for cleaner look\\n",\
        "    ax.set_xticks([])\\n",\
        "    ax.set_yticks([])\\n",\
        "    \\n",\
        "    plt.tight_layout()\\n",\
        "    plt.show()\\n",\
        "\\n",\
        "# Plot our Sierpi\uc0\u324 ski Triangle\\n",\
        "plot_fractal(sierpinski_points, triangle_vertices, \\n",\
        "             \\"Sierpi\uc0\u324 ski Triangle - The Chaos Game Result!\\")\\n",\
        "\\n",\
        "print(\\"
\f1 \uc0\u55357 \u56634 
\f0  The Sierpi\uc0\u324 ski Triangle: A fractal with infinite detail!\\")\\n",\
        "print(\\"Simple rule: Pick random vertex, move halfway toward it.\\")\\n",\
        "print(\\"Complex result: A fractal pattern that repeats at all scales}